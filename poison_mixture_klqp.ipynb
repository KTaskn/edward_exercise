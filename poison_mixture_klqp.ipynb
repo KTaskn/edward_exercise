{
 "cells": [
  {
   "cell_type": "code",
   "execution_count": 1,
   "metadata": {},
   "outputs": [
    {
     "name": "stderr",
     "output_type": "stream",
     "text": [
      "/anaconda/envs/Edward/lib/python3.5/site-packages/h5py/__init__.py:36: FutureWarning: Conversion of the second argument of issubdtype from `float` to `np.floating` is deprecated. In future, it will be treated as `np.float64 == np.dtype(float).type`.\n",
      "  from ._conv import register_converters as _register_converters\n"
     ]
    },
    {
     "name": "stdout",
     "output_type": "stream",
     "text": [
      "WARNING:tensorflow:From /anaconda/envs/Edward/lib/python3.5/site-packages/tensorflow/contrib/learn/python/learn/datasets/base.py:198: retry (from tensorflow.contrib.learn.python.learn.datasets.base) is deprecated and will be removed in a future version.\n",
      "Instructions for updating:\n",
      "Use the retry module or similar alternatives.\n"
     ]
    },
    {
     "data": {
      "image/png": "[encoded data removed]",
      "text/plain": [
       "<Figure size 432x288 with 1 Axes>"
      ]
     },
     "metadata": {},
     "output_type": "display_data"
    },
    {
     "data": {
      "text/plain": [
       "numpy.ndarray"
      ]
     },
     "metadata": {},
     "output_type": "display_data"
    }
   ],
   "source": [
    "%matplotlib inline\n",
    "import matplotlib.pyplot as plt\n",
    "import numpy as np\n",
    "import pandas as pd\n",
    "import tensorflow as tf\n",
    "import edward as ed\n",
    "from edward.models import (Categorical, Dirichlet, Empirical, Poisson,\n",
    "                           Mixture, Gamma, ParamMixture, Normal,\n",
    "                           InverseGamma, MultivariateNormalDiag)\n",
    "\n",
    "#DATA\n",
    "N = 1000\n",
    "_lambda_0 = 10.0\n",
    "_lambda_1 = 100.0\n",
    "sess = ed.get_session()\n",
    "\n",
    "dCat= Categorical([0.1, 0.99])\n",
    "dPoi_0 = Poisson(_lambda_0)\n",
    "dPoi_1 = Poisson(_lambda_1)\n",
    "\n",
    "_x = Mixture(\n",
    "    cat=dCat,\n",
    "    components=[dPoi_0, dPoi_1]\n",
    ")\n",
    "\n",
    "x_data = sess.run(_x.sample(N))\n",
    "\n",
    "plt.hist(x_data, bins=1000, range=(0, 1000))\n",
    "plt.show()\n",
    "\n",
    "display(type(x_data))\n",
    "sess.close()\n",
    "tf.flags.DEFINE_string('f', '', 'kernel')"
   ]
  },
  {
   "cell_type": "code",
   "execution_count": 2,
   "metadata": {},
   "outputs": [
    {
     "name": "stderr",
     "output_type": "stream",
     "text": [
      "/anaconda/envs/Edward/lib/python3.5/site-packages/edward/util/random_variables.py:52: FutureWarning: Conversion of the second argument of issubdtype from `float` to `np.floating` is deprecated. In future, it will be treated as `np.float64 == np.dtype(float).type`.\n",
      "  not np.issubdtype(value.dtype, np.float) and \\\n"
     ]
    },
    {
     "data": {
      "text/plain": [
       "10000"
      ]
     },
     "metadata": {},
     "output_type": "display_data"
    },
    {
     "name": "stdout",
     "output_type": "stream",
     "text": [
      "  100/10000 [  1%]                                ETA: 72s | Loss: 13991.100   \n",
      "Inferred cluster means:\n",
      "  200/10000 [  2%]                                ETA: 41s | Loss: 19504.092\n",
      "Inferred cluster means:\n",
      "  300/10000 [  3%]                                ETA: 30s | Loss: 8564.684 \n",
      "Inferred cluster means:\n",
      "  400/10000 [  4%] █                              ETA: 24s | Loss: 23308.393\n",
      "Inferred cluster means:\n",
      "  500/10000 [  5%] █                              ETA: 21s | Loss: 81510.367\n",
      "Inferred cluster means:\n",
      "  600/10000 [  6%] █                              ETA: 19s | Loss: 26107.486\n",
      "Inferred cluster means:\n",
      "  700/10000 [  7%] ██                             ETA: 17s | Loss: 18379.412\n",
      "Inferred cluster means:\n",
      "  800/10000 [  8%] ██                             ETA: 16s | Loss: 12105.320\n",
      "Inferred cluster means:\n",
      "  900/10000 [  9%] ██                             ETA: 15s | Loss: 35393.062\n",
      "Inferred cluster means:\n",
      " 1000/10000 [ 10%] ███                            ETA: 14s | Loss: 16705.805\n",
      "Inferred cluster means:\n",
      " 1100/10000 [ 11%] ███                            ETA: 14s | Loss: 13334.816\n",
      "Inferred cluster means:\n",
      " 1200/10000 [ 12%] ███                            ETA: 13s | Loss: 17677.613\n",
      "Inferred cluster means:\n",
      " 1300/10000 [ 13%] ███                            ETA: 12s | Loss: 13202.599\n",
      "Inferred cluster means:\n",
      " 1400/10000 [ 14%] ████                           ETA: 12s | Loss: 21083.064\n",
      "Inferred cluster means:\n",
      " 1500/10000 [ 15%] ████                           ETA: 12s | Loss: 12055.678\n",
      "Inferred cluster means:\n",
      " 1600/10000 [ 16%] ████                           ETA: 11s | Loss: 34206.457\n",
      "Inferred cluster means:\n",
      " 1700/10000 [ 17%] █████                          ETA: 11s | Loss: 5581.244 \n",
      "Inferred cluster means:\n",
      " 1800/10000 [ 18%] █████                          ETA: 11s | Loss: 40946.805\n",
      "Inferred cluster means:\n",
      " 1900/10000 [ 19%] █████                          ETA: 10s | Loss: 6143.987 \n",
      "Inferred cluster means:\n",
      " 2000/10000 [ 20%] ██████                         ETA: 10s | Loss: 5190.071\n",
      "Inferred cluster means:\n",
      " 2100/10000 [ 21%] ██████                         ETA: 10s | Loss: 4656.116\n",
      "Inferred cluster means:\n",
      " 2200/10000 [ 22%] ██████                         ETA: 10s | Loss: 9334.345\n",
      "Inferred cluster means:\n",
      " 2300/10000 [ 23%] ██████                         ETA: 9s | Loss: 4894.897 \n",
      "Inferred cluster means:\n",
      " 2400/10000 [ 24%] ███████                        ETA: 9s | Loss: 10106.887\n",
      "Inferred cluster means:\n",
      " 2500/10000 [ 25%] ███████                        ETA: 9s | Loss: 6692.567 \n",
      "Inferred cluster means:\n",
      " 2600/10000 [ 26%] ███████                        ETA: 9s | Loss: 8886.275\n",
      "Inferred cluster means:\n",
      " 2700/10000 [ 27%] ████████                       ETA: 8s | Loss: 15589.847\n",
      "Inferred cluster means:\n",
      " 2800/10000 [ 28%] ████████                       ETA: 8s | Loss: 12677.645\n",
      "Inferred cluster means:\n",
      " 2900/10000 [ 28%] ████████                       ETA: 8s | Loss: 27279.414\n",
      "Inferred cluster means:\n",
      " 3000/10000 [ 30%] █████████                      ETA: 8s | Loss: 9656.834 \n",
      "Inferred cluster means:\n",
      " 3100/10000 [ 31%] █████████                      ETA: 8s | Loss: 26635.701\n",
      "Inferred cluster means:\n",
      " 3200/10000 [ 32%] █████████                      ETA: 8s | Loss: 8500.188 \n",
      "Inferred cluster means:\n",
      " 3300/10000 [ 33%] █████████                      ETA: 8s | Loss: 5423.073\n",
      "Inferred cluster means:\n",
      " 3400/10000 [ 34%] ██████████                     ETA: 7s | Loss: 8596.158\n",
      "Inferred cluster means:\n",
      " 3500/10000 [ 35%] ██████████                     ETA: 7s | Loss: 12772.166\n",
      "Inferred cluster means:\n",
      " 3600/10000 [ 36%] ██████████                     ETA: 7s | Loss: 7170.503 \n",
      "Inferred cluster means:\n",
      " 3700/10000 [ 37%] ███████████                    ETA: 7s | Loss: 6808.224\n",
      "Inferred cluster means:\n",
      " 3800/10000 [ 38%] ███████████                    ETA: 7s | Loss: 6718.749\n",
      "Inferred cluster means:\n",
      " 3900/10000 [ 39%] ███████████                    ETA: 7s | Loss: 4755.084\n",
      "Inferred cluster means:\n",
      " 4000/10000 [ 40%] ████████████                   ETA: 6s | Loss: 8462.483\n",
      "Inferred cluster means:\n",
      " 4100/10000 [ 41%] ████████████                   ETA: 6s | Loss: 16704.037\n",
      "Inferred cluster means:\n",
      " 4200/10000 [ 42%] ████████████                   ETA: 6s | Loss: 5078.252 \n",
      "Inferred cluster means:\n",
      " 4300/10000 [ 43%] ████████████                   ETA: 6s | Loss: 10751.331\n",
      "Inferred cluster means:\n",
      " 4400/10000 [ 44%] █████████████                  ETA: 6s | Loss: 7681.795 \n",
      "Inferred cluster means:\n",
      " 4500/10000 [ 45%] █████████████                  ETA: 6s | Loss: 5488.994\n",
      "Inferred cluster means:\n",
      " 4600/10000 [ 46%] █████████████                  ETA: 6s | Loss: 7666.390\n",
      "Inferred cluster means:\n",
      " 4700/10000 [ 47%] ██████████████                 ETA: 6s | Loss: 5885.256\n",
      "Inferred cluster means:\n",
      " 4800/10000 [ 48%] ██████████████                 ETA: 5s | Loss: 5539.549\n",
      "Inferred cluster means:\n",
      " 4900/10000 [ 49%] ██████████████                 ETA: 5s | Loss: 15976.176\n",
      "Inferred cluster means:\n",
      " 5000/10000 [ 50%] ███████████████                ETA: 5s | Loss: 18338.199\n",
      "Inferred cluster means:\n",
      " 5100/10000 [ 51%] ███████████████                ETA: 5s | Loss: 9499.329 \n",
      "Inferred cluster means:\n",
      " 5200/10000 [ 52%] ███████████████                ETA: 5s | Loss: 6190.141\n",
      "Inferred cluster means:\n",
      " 5300/10000 [ 53%] ███████████████                ETA: 5s | Loss: 6604.252\n",
      "Inferred cluster means:\n",
      " 5400/10000 [ 54%] ████████████████               ETA: 5s | Loss: 7106.337\n",
      "Inferred cluster means:\n",
      " 5500/10000 [ 55%] ████████████████               ETA: 5s | Loss: 4741.194\n",
      "Inferred cluster means:\n",
      " 5600/10000 [ 56%] ████████████████               ETA: 4s | Loss: 13071.580\n",
      "Inferred cluster means:\n",
      " 5700/10000 [ 56%] █████████████████              ETA: 4s | Loss: 6282.188 \n",
      "Inferred cluster means:\n",
      " 5800/10000 [ 57%] █████████████████              ETA: 4s | Loss: 26527.695\n",
      "Inferred cluster means:\n",
      " 5900/10000 [ 59%] █████████████████              ETA: 4s | Loss: 6091.288 \n",
      "Inferred cluster means:\n",
      " 6000/10000 [ 60%] ██████████████████             ETA: 4s | Loss: 6874.719\n",
      "Inferred cluster means:\n",
      " 6100/10000 [ 61%] ██████████████████             ETA: 4s | Loss: 9468.378\n",
      "Inferred cluster means:\n",
      " 6200/10000 [ 62%] ██████████████████             ETA: 4s | Loss: 6260.218\n",
      "Inferred cluster means:\n",
      " 6300/10000 [ 63%] ██████████████████             ETA: 4s | Loss: 5426.089\n",
      "Inferred cluster means:\n",
      " 6400/10000 [ 64%] ███████████████████            ETA: 3s | Loss: 8736.063\n",
      "Inferred cluster means:\n",
      " 6500/10000 [ 65%] ███████████████████            ETA: 3s | Loss: 6768.126\n",
      "Inferred cluster means:\n",
      " 6600/10000 [ 66%] ███████████████████            ETA: 3s | Loss: 4557.228\n",
      "Inferred cluster means:\n",
      " 6700/10000 [ 67%] ████████████████████           ETA: 3s | Loss: 5680.723\n",
      "Inferred cluster means:\n",
      " 6800/10000 [ 68%] ████████████████████           ETA: 3s | Loss: 10500.668\n",
      "Inferred cluster means:\n",
      " 6900/10000 [ 69%] ████████████████████           ETA: 3s | Loss: 23815.088\n",
      "Inferred cluster means:\n",
      " 7000/10000 [ 70%] █████████████████████          ETA: 3s | Loss: 8035.502 \n",
      "Inferred cluster means:\n",
      " 7100/10000 [ 71%] █████████████████████          ETA: 3s | Loss: 32247.486\n",
      "Inferred cluster means:\n",
      " 7200/10000 [ 72%] █████████████████████          ETA: 3s | Loss: 14426.359\n",
      "Inferred cluster means:\n",
      " 7300/10000 [ 73%] █████████████████████          ETA: 2s | Loss: 7888.773 \n",
      "Inferred cluster means:\n",
      " 7400/10000 [ 74%] ██████████████████████         ETA: 2s | Loss: 5145.290\n",
      "Inferred cluster means:\n",
      " 7500/10000 [ 75%] ██████████████████████         ETA: 2s | Loss: 17372.236\n",
      "Inferred cluster means:\n",
      " 7600/10000 [ 76%] ██████████████████████         ETA: 2s | Loss: 7881.359 \n",
      "Inferred cluster means:\n",
      " 7700/10000 [ 77%] ███████████████████████        ETA: 2s | Loss: 6447.775\n",
      "Inferred cluster means:\n",
      " 7800/10000 [ 78%] ███████████████████████        ETA: 2s | Loss: 18007.248\n",
      "Inferred cluster means:\n",
      " 7900/10000 [ 79%] ███████████████████████        ETA: 2s | Loss: 10177.936\n",
      "Inferred cluster means:\n",
      " 8000/10000 [ 80%] ████████████████████████       ETA: 2s | Loss: 13049.841\n",
      "Inferred cluster means:\n",
      " 8100/10000 [ 81%] ████████████████████████       ETA: 2s | Loss: 9987.973 \n",
      "Inferred cluster means:\n",
      " 8200/10000 [ 82%] ████████████████████████       ETA: 1s | Loss: 5274.794\n",
      "Inferred cluster means:\n"
     ]
    },
    {
     "name": "stdout",
     "output_type": "stream",
     "text": [
      " 8300/10000 [ 83%] ████████████████████████       ETA: 1s | Loss: 5639.533\n",
      "Inferred cluster means:\n",
      " 8400/10000 [ 84%] █████████████████████████      ETA: 1s | Loss: 5773.655\n",
      "Inferred cluster means:\n",
      " 8500/10000 [ 85%] █████████████████████████      ETA: 1s | Loss: 29813.533\n",
      "Inferred cluster means:\n",
      " 8600/10000 [ 86%] █████████████████████████      ETA: 1s | Loss: 4734.079 \n",
      "Inferred cluster means:\n",
      " 8700/10000 [ 87%] ██████████████████████████     ETA: 1s | Loss: 5308.618\n",
      "Inferred cluster means:\n",
      " 8800/10000 [ 88%] ██████████████████████████     ETA: 1s | Loss: 4335.431\n",
      "Inferred cluster means:\n",
      " 8900/10000 [ 89%] ██████████████████████████     ETA: 1s | Loss: 4921.160\n",
      "Inferred cluster means:\n",
      " 9000/10000 [ 90%] ███████████████████████████    ETA: 1s | Loss: 4924.938\n",
      "Inferred cluster means:\n",
      " 9100/10000 [ 91%] ███████████████████████████    ETA: 0s | Loss: 4330.145\n",
      "Inferred cluster means:\n",
      " 9200/10000 [ 92%] ███████████████████████████    ETA: 0s | Loss: 4570.309\n",
      "Inferred cluster means:\n",
      " 9300/10000 [ 93%] ███████████████████████████    ETA: 0s | Loss: 4566.991\n",
      "Inferred cluster means:\n",
      " 9400/10000 [ 94%] ████████████████████████████   ETA: 0s | Loss: 8554.615\n",
      "Inferred cluster means:\n",
      " 9500/10000 [ 95%] ████████████████████████████   ETA: 0s | Loss: 7153.137\n",
      "Inferred cluster means:\n",
      " 9600/10000 [ 96%] ████████████████████████████   ETA: 0s | Loss: 5228.909\n",
      "Inferred cluster means:\n",
      " 9700/10000 [ 97%] █████████████████████████████  ETA: 0s | Loss: 6359.158\n",
      "Inferred cluster means:\n",
      " 9800/10000 [ 98%] █████████████████████████████  ETA: 0s | Loss: 6827.065\n",
      "Inferred cluster means:\n",
      " 9900/10000 [ 99%] █████████████████████████████  ETA: 0s | Loss: 7754.792\n",
      "Inferred cluster means:\n",
      "10000/10000 [100%] ██████████████████████████████ Elapsed: 10s | Loss: 6632.937\n",
      "\n",
      "Inferred cluster means:\n"
     ]
    }
   ],
   "source": [
    "from IPython.display import clear_output\n",
    "\n",
    "K = 2\n",
    "\n",
    "# with tf.Graph().as_default():\n",
    "sess = ed.get_session()\n",
    "FLAGS = tf.flags.FLAGS\n",
    "\n",
    "pi = Dirichlet(\n",
    "    tf.ones(K),\n",
    "    name=\"pi\"\n",
    ")\n",
    "c= Categorical(\n",
    "    pi,\n",
    "    name=\"c\"\n",
    ")\n",
    "g0 = Gamma(\n",
    "    concentration=70.0,\n",
    "    rate=1.0,\n",
    "    name=\"g0\"\n",
    ")\n",
    "g1 = Gamma(\n",
    "    concentration=140.0,\n",
    "    rate=1.0,\n",
    "    name=\"g1\"\n",
    ")\n",
    "p0 = Poisson(\n",
    "    g0,\n",
    "    name=\"p0\"\n",
    ")\n",
    "p1 = Poisson(\n",
    "    g1,\n",
    "    name=\"p0\"\n",
    ")\n",
    "\n",
    "x = Mixture(\n",
    "    cat=c,\n",
    "    components=[p0, p1],\n",
    "    sample_shape=N,\n",
    "    name=\"x\"\n",
    ")\n",
    "\n",
    "qpi = Dirichlet(\n",
    "    tf.nn.softplus(\n",
    "      tf.get_variable(\"qpi/concentration\", [K])\n",
    "    ),\n",
    "    name=\"qpi\"\n",
    ")\n",
    "qg0 = Gamma(\n",
    "    concentration=tf.nn.softplus(tf.get_variable(\"qp0_c/loc\", [])),\n",
    "    rate=tf.nn.softplus(tf.get_variable(\"qp0_r/loc\", [])),\n",
    "    name=\"qg0\"\n",
    ")\n",
    "qg1 = Gamma(\n",
    "    concentration=tf.nn.softplus(tf.get_variable(\"qp1_c/loc\", [])),\n",
    "    rate=tf.nn.softplus(tf.get_variable(\"qp1_r/loc\", [])),\n",
    "    name=\"qg1\"\n",
    ")\n",
    "\n",
    "inference = ed.KLqp(\n",
    "    {\n",
    "        pi: qpi,\n",
    "        g0: qg0,\n",
    "        g1: qg1,\n",
    "    },\n",
    "    data={\n",
    "        x: x_data\n",
    "    }\n",
    ")\n",
    "\n",
    "inference.initialize(n_iter=10000)\n",
    "\n",
    "tf.global_variables_initializer().run()\n",
    "\n",
    "t_ph = tf.placeholder(tf.int32, [])\n",
    "display(inference.n_iter)\n",
    "for _ in range(inference.n_iter):\n",
    "    info_dict = inference.update()\n",
    "    inference.print_progress(info_dict)\n",
    "    t = info_dict['t']\n",
    "    if t % inference.n_print == 0:\n",
    "        print(\"\\nInferred cluster means:\")\n",
    "inference.finalize()\n"
   ]
  },
  {
   "cell_type": "code",
   "execution_count": 3,
   "metadata": {},
   "outputs": [
    {
     "data": {
      "text/plain": [
       "array([0.551169  , 0.44883096], dtype=float32)"
      ]
     },
     "metadata": {},
     "output_type": "display_data"
    },
    {
     "data": {
      "text/plain": [
       "100.977295"
      ]
     },
     "metadata": {},
     "output_type": "display_data"
    },
    {
     "data": {
      "text/plain": [
       "12.484091"
      ]
     },
     "metadata": {},
     "output_type": "display_data"
    }
   ],
   "source": [
    "display(qpi.sample(1000).eval().mean(axis=0))\n",
    "display(qg0.sample(1000).eval().mean())\n",
    "display(qg1.sample(1000).eval().mean())"
   ]
  },
  {
   "cell_type": "code",
   "execution_count": 4,
   "metadata": {},
   "outputs": [
    {
     "data": {
      "image/png": "[encoded data removed]",
      "text/plain": [
       "<Figure size 432x288 with 1 Axes>"
      ]
     },
     "metadata": {},
     "output_type": "display_data"
    }
   ],
   "source": [
    "_qpi = qpi.sample(1000).eval().mean(axis=0)\n",
    "qdCat= Categorical(_qpi)\n",
    "qdPoi_0 = Poisson(qg0.sample(1000).eval().mean())\n",
    "qdPoi_1 = Poisson(qg1.sample(1000).eval().mean())\n",
    "\n",
    "q_x = Mixture(\n",
    "    cat=qdCat,\n",
    "    components=[qdPoi_0, qdPoi_1],\n",
    "    sample_shape=N\n",
    ")\n",
    "\n",
    "\n",
    "plt.hist(q_x.eval(), bins=100, range=(0, 100))\n",
    "plt.show()"
   ]
  },
  {
   "cell_type": "code",
   "execution_count": 5,
   "metadata": {},
   "outputs": [
    {
     "data": {
      "image/png": "[encoded data removed]",
      "text/plain": [
       "<Figure size 432x288 with 1 Axes>"
      ]
     },
     "metadata": {},
     "output_type": "display_data"
    },
    {
     "data": {
      "text/plain": [
       "0.9999932"
      ]
     },
     "execution_count": 5,
     "metadata": {},
     "output_type": "execute_result"
    }
   ],
   "source": [
    "y_0 = qdPoi_0.prob(np.arange(1, 300).astype(np.float32)).eval() * _qpi[0]\n",
    "y_1 = qdPoi_1.prob(np.arange(1, 300).astype(np.float32)).eval() * _qpi[1]\n",
    "y_x = q_x.prob(np.arange(1, 300).astype(np.float32)).eval()\n",
    "\n",
    "plt.plot(y_0)\n",
    "plt.plot(y_1)\n",
    "plt.show()\n",
    "\n",
    "(y_0 + y_1).sum()"
   ]
  },
  {
   "cell_type": "code",
   "execution_count": 6,
   "metadata": {
    "scrolled": false
   },
   "outputs": [
    {
     "data": {
      "image/png": "[encoded data removed]",
      "text/plain": [
       "<Figure size 432x288 with 1 Axes>"
      ]
     },
     "metadata": {},
     "output_type": "display_data"
    },
    {
     "data": {
      "image/png": "[encoded data removed]",
      "text/plain": [
       "<Figure size 432x288 with 1 Axes>"
      ]
     },
     "metadata": {},
     "output_type": "display_data"
    }
   ],
   "source": [
    "plt.hist(qdPoi_0.sample(1000).eval(), bins=1000, range=(0, 1000))\n",
    "plt.show()\n",
    "\n",
    "plt.plot(qdPoi_0.prob(np.arange(0, 500).astype(np.float32)).eval())\n",
    "plt.show()"
   ]
  },
  {
   "cell_type": "code",
   "execution_count": 7,
   "metadata": {},
   "outputs": [
    {
     "data": {
      "text/plain": [
       "0.5452018"
      ]
     },
     "execution_count": 7,
     "metadata": {},
     "output_type": "execute_result"
    }
   ],
   "source": [
    "_qpi[0]"
   ]
  },
  {
   "cell_type": "code",
   "execution_count": 8,
   "metadata": {},
   "outputs": [
    {
     "data": {
      "text/plain": [
       "0.4547982"
      ]
     },
     "execution_count": 8,
     "metadata": {},
     "output_type": "execute_result"
    }
   ],
   "source": [
    "_qpi[1]"
   ]
  },
  {
   "cell_type": "code",
   "execution_count": null,
   "metadata": {},
   "outputs": [],
   "source": []
  },
  {
   "cell_type": "code",
   "execution_count": null,
   "metadata": {},
   "outputs": [],
   "source": []
  }
 ],
 "metadata": {
  "kernelspec": {
   "display_name": "Edward",
   "language": "python",
   "name": "edward"
  },
  "language_info": {
   "codemirror_mode": {
    "name": "ipython",
    "version": 3
   },
   "file_extension": ".py",
   "mimetype": "text/x-python",
   "name": "python",
   "nbconvert_exporter": "python",
   "pygments_lexer": "ipython3",
   "version": "3.5.5"
  }
 },
 "nbformat": 4,
 "nbformat_minor": 2
}
